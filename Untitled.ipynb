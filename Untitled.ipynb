{
 "cells": [
  {
   "cell_type": "code",
   "execution_count": 2,
   "id": "6efe7199-14de-411b-9da4-378d9a4efbb0",
   "metadata": {},
   "outputs": [],
   "source": [
    "import bibtexparser\n",
    "\n",
    "with open('publications.bib') as bibtex_file:\n",
    "    bib_database = bibtexparser.load(bibtex_file)"
   ]
  },
  {
   "cell_type": "code",
   "execution_count": 30,
   "id": "8102291f-e8f5-4ae4-93fb-e239679ae76c",
   "metadata": {},
   "outputs": [
    {
     "data": {
      "text/plain": [
       "[{'year': '2021',\n",
       "  'author': 'Tyler Chen and Anne Greenbaum and Cameron Musco and Christopher Musco',\n",
       "  'title': 'Optimal low-memory rational matrix function approximation',\n",
       "  'ENTRYTYPE': 'misc',\n",
       "  'ID': 'lanczos_rational_opt'},\n",
       " {'year': '2021',\n",
       "  'author': 'Tyler Chen and Thomas Trogdon',\n",
       "  'title': 'Average case behavior of the Lanczos algorithm in finite precision arithmetic',\n",
       "  'ENTRYTYPE': 'misc',\n",
       "  'ID': 'lanczos_fp_deterministic'},\n",
       " {'year': '2021',\n",
       "  'author+an': '1=highlight',\n",
       "  'author': 'Tyler Chen and Thomas Trogdon and Shashanka Ubaru',\n",
       "  'title': 'Randomized matrix-free quadrature',\n",
       "  'ENTRYTYPE': 'misc',\n",
       "  'ID': 'matrix_free_quadrature'},\n",
       " {'comment': '\\\\begin{itemize}\\\\item selected for long presentation (top 3\\\\%)\\\\end{itemize}',\n",
       "  'webintro': 'https://chen.pw/research/publications/slq_analysis.html',\n",
       "  'primaryclass': 'cs.DS',\n",
       "  'archiveprefix': 'arXiv',\n",
       "  'eprint': '2105.06595',\n",
       "  'url0': 'http://proceedings.mlr.press/v139/chen21s.html',\n",
       "  'pdf0': 'http://proceedings.mlr.press/v139/chen21s/chen21s.pdf',\n",
       "  'publisher': 'PMLR',\n",
       "  'month': '18--24 Jul',\n",
       "  'series': 'Proceedings of Machine Learning Research',\n",
       "  'volume': '139',\n",
       "  'editor0': 'Meila, Marina and Zhang, Tong',\n",
       "  'year': '2021',\n",
       "  'pages': '1728--1739',\n",
       "  'booktitle': 'Proceedings of the 38th International Conference on Machine Learning',\n",
       "  'author+an': '1=highlight',\n",
       "  'author': 'Tyler Chen and Thomas Trogdon and Shashanka Ubaru',\n",
       "  'title': 'Analysis of stochastic Lanczos quadrature for spectrum approximation',\n",
       "  'ENTRYTYPE': 'inproceedings',\n",
       "  'ID': 'slq_analysis'},\n",
       " {'webintro': 'https://chen.pw/research/publications/lanczos_function_CIF.html',\n",
       "  'primaryclass': 'math.NA',\n",
       "  'archiveprefix': 'arXiv',\n",
       "  'eprint': '2106.09806',\n",
       "  'year': '2021',\n",
       "  'author+an': '1=highlight',\n",
       "  'author': 'Tyler Chen and Anne Greenbaum and Cameron Musco and Christopher Musco',\n",
       "  'title': 'Error bounds for Lanczos-based matrix function approximation',\n",
       "  'ENTRYTYPE': 'misc',\n",
       "  'ID': 'lanczos_function_CIF'},\n",
       " {'webintro': 'https://chen.pw/research/publications/finite_precision_random_variables.html',\n",
       "  'primaryclass': 'math.ST',\n",
       "  'archiveprefix': 'arXiv',\n",
       "  'eprint': '2007.11041',\n",
       "  'journal': 'Stat',\n",
       "  'pages': 'e395',\n",
       "  'number': '',\n",
       "  'volume': '',\n",
       "  'publisher': 'Wiley',\n",
       "  'month': 'june',\n",
       "  'year': '2021',\n",
       "  'doi': '10.1002/STA4.395',\n",
       "  'author+an': '1=highlight',\n",
       "  'author': 'Tyler Chen',\n",
       "  'title': 'Non-asymptotic moment bounds for random variables rounded to non-uniformly spaced sets',\n",
       "  'ENTRYTYPE': 'article',\n",
       "  'ID': 'finite_precision_random_variables'},\n",
       " {'note': 'arXiv preprint: \\\\href{https://arxiv.org/abs/1905.01549}{1905.01549}',\n",
       "  'comment': '\\\\begin{itemize}\\\\item abridged version was Student Paper Competition winner at 16\\\\textsuperscript{th} Copper Mountain Conference on Iterative Methods\\\\end{itemize}',\n",
       "  'webintro': 'https://chen.pw/research/publications/predict_and_recompute_cg.html',\n",
       "  'primaryclass': 'cs.NA',\n",
       "  'archiveprefix': 'arXiv',\n",
       "  'eprint': '1905.01549',\n",
       "  'journal': '{SIAM} Journal on Scientific Computing',\n",
       "  'pages': 'A3084--A3108',\n",
       "  'number': '5',\n",
       "  'volume': '42',\n",
       "  'publisher': 'Society for Industrial {\\\\&} Applied Mathematics ({SIAM})',\n",
       "  'month': 'jan',\n",
       "  'year': '2020',\n",
       "  'url0': 'https://doi.org/10.1137/19m1276856',\n",
       "  'doi': '10.1137/19m1276856',\n",
       "  'author+an': '1=highlight',\n",
       "  'author': 'Tyler Chen and Erin C. Carson',\n",
       "  'title': 'Predict-and-recompute conjugate gradient variants',\n",
       "  'ENTRYTYPE': 'article',\n",
       "  'ID': 'predict_and_recompute'},\n",
       " {'webintro': 'https://chen.pw/research/publications/cg_variants_convergence_rates.html',\n",
       "  'primaryclass': 'cs.NA',\n",
       "  'archiveprefix': 'arXiv',\n",
       "  'eprint': '1905.05874',\n",
       "  'journal': '{SIAM} Journal on Scientific Computing',\n",
       "  'title': 'On the Convergence Rate of Variants of the Conjugate Gradient Algorithm in Finite Precision Arithmetic',\n",
       "  'author': 'Anne Greenbaum and Hexuan Liu and Tyler Chen',\n",
       "  'pages': 'S496--S515',\n",
       "  'publisher': 'Society for Industrial {\\\\&} Applied Mathematics ({SIAM})',\n",
       "  'month': 'jul',\n",
       "  'year': '2021',\n",
       "  'url': 'https://doi.org/10.1137/20m1346249',\n",
       "  'doi': '10.1137/20m1346249',\n",
       "  'ENTRYTYPE': 'article',\n",
       "  'ID': 'cg_variants_convergence_rates'}]"
      ]
     },
     "execution_count": 30,
     "metadata": {},
     "output_type": "execute_result"
    }
   ],
   "source": [
    "bib_database.entries"
   ]
  },
  {
   "cell_type": "code",
   "execution_count": 28,
   "id": "2d3d10e9-9192-4ec8-af71-2246577db703",
   "metadata": {},
   "outputs": [],
   "source": [
    "IDs = [bib_entry['ID'] for bib_entry in bib_database.entries]"
   ]
  },
  {
   "cell_type": "code",
   "execution_count": 29,
   "id": "13a31b0e-fbaf-4c8d-8052-6565ddaf7a3e",
   "metadata": {},
   "outputs": [
    {
     "data": {
      "text/plain": [
       "['lanczos_rational_opt',\n",
       " 'lanczos_fp_deterministic',\n",
       " 'matrix_free_quadrature',\n",
       " 'slq_analysis',\n",
       " 'lanczos_function_CIF',\n",
       " 'finite_precision_random_variables',\n",
       " 'predict_and_recompute',\n",
       " 'cg_variants_convergence_rates']"
      ]
     },
     "execution_count": 29,
     "metadata": {},
     "output_type": "execute_result"
    }
   ],
   "source": [
    "IDs"
   ]
  },
  {
   "cell_type": "code",
   "execution_count": 40,
   "id": "6ec9019f-16e9-45b8-aeda-cc85cbcf7470",
   "metadata": {},
   "outputs": [],
   "source": [
    "bib_entry = bib_database.entries[6]"
   ]
  },
  {
   "cell_type": "code",
   "execution_count": 48,
   "id": "f45fe3d2-03d3-4bb3-a6f4-185fe9ca4c8c",
   "metadata": {},
   "outputs": [],
   "source": [
    "def bib_to_html(pub_idx,bib_entry):\n",
    "    \"\"\"\n",
    "    given bibtex entry, output html string.\n",
    "    \"\"\"\n",
    "    \n",
    "    # build html\n",
    "    html = '<div tabindex=\"0\" class=\"paper\">\\n'\\\n",
    "           +f'<div class=\"pub-idx\">[{pub_idx}]</div>'\\\n",
    "           +f'<div class=\"pub-container\"><div class=\"title\">{bib_entry[\"title\"]}</div><br>\\n'\n",
    "    \n",
    "    html += f'<div class=\"authors\">{bib_entry[\"author\"]}</div><br>\\n'\n",
    "           \n",
    "    html += (f'<div class=\"journal\">{bib_entry[\"journal\"]}</div><br>\\n' if \"journal\" in bib_entry.keys() else '')\\\n",
    "           +(f'<div class=\"journal\">{bib_entry[\"booktitle\"]}</div><br>\\n' if \"booktitle\" in bib_entry.keys() else '')\n",
    "           \n",
    "    html += (f'<div class=\"pdf\"><a href=\"{\"./\"+file_loc+\".pdf\" if bib_entry[\"pdf\"]==\"\" else bib_info[\"pdf\"]}\">[pdf]</a></div>\\n' if \"pdf\" in bib_entry.keys() else '')\\\n",
    "           +(f'<div class=\"doi\"><a href=\"https://doi.org/{bib_entry[\"doi\"]}\">[journal]</a></div>\\n' if \"doi\" in bib_entry.keys() else '')\\\n",
    "           +(f'<div class=\"eprint\"><a href=\"https://arxiv.org/abs/{bib_entry[\"eprint\"]}\">[arXiv]</a></div>\\n' if \"eprint\" in bib_entry.keys() else '')\\\n",
    "           +(f'<div class=\"notes\">{bib_entry[\"note\"]}.</div>\\n' if \"note\" in bib_entry.keys() else '')\n",
    "    \n",
    "    html += '</div>\\n</div>\\n'\n",
    "    \n",
    "    return html"
   ]
  },
  {
   "cell_type": "code",
   "execution_count": 49,
   "id": "bcc89b5b-49bf-47dd-aac0-74dace26a8d6",
   "metadata": {},
   "outputs": [
    {
     "data": {
      "text/plain": [
       "'<div tabindex=\"0\" class=\"paper\">\\n<div class=\"pub-idx\">[1]</div><div class=\"pub-container\"><div class=\"title\">Predict-and-recompute conjugate gradient variants</div><br>\\n<div class=\"authors\">Tyler Chen and Erin C. Carson</div><br>\\n<div class=\"journal\">{SIAM} Journal on Scientific Computing</div><br>\\n<div class=\"doi\"><a href=\"https://doi.org/10.1137/19m1276856\">[journal]</a></div>\\n<div class=\"eprint\"><a href=\"https://arxiv.org/abs/1905.01549\">[arXiv]</a></div>\\n<div class=\"notes\">arXiv preprint: \\\\href{https://arxiv.org/abs/1905.01549}{1905.01549}.</div>\\n</div>\\n</div>\\n'"
      ]
     },
     "execution_count": 49,
     "metadata": {},
     "output_type": "execute_result"
    }
   ],
   "source": [
    "bib_to_html(1,bib_entry)"
   ]
  },
  {
   "cell_type": "code",
   "execution_count": null,
   "id": "34749967-d4a0-4660-9f58-e67881ae099b",
   "metadata": {},
   "outputs": [],
   "source": []
  }
 ],
 "metadata": {
  "kernelspec": {
   "display_name": "Python 3 (ipykernel)",
   "language": "python",
   "name": "python3"
  },
  "language_info": {
   "codemirror_mode": {
    "name": "ipython",
    "version": 3
   },
   "file_extension": ".py",
   "mimetype": "text/x-python",
   "name": "python",
   "nbconvert_exporter": "python",
   "pygments_lexer": "ipython3",
   "version": "3.9.12"
  }
 },
 "nbformat": 4,
 "nbformat_minor": 5
}
